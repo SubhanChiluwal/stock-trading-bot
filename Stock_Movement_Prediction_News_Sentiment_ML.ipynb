{
 "cells": [
  {
   "cell_type": "markdown",
   "id": "e8c116cd",
   "metadata": {},
   "source": [
    "# **Predicting Stock Movements using News Sentiment Analysis & ML**\n"
   ]
  },
  {
   "cell_type": "markdown",
   "id": "deb5c5bc",
   "metadata": {},
   "source": [
    "Author: Subhan Chiluwal"
   ]
  },
  {
   "cell_type": "markdown",
   "id": "73727730",
   "metadata": {},
   "source": [
    "This project aims to predict stock price movements using news sentiment analysis and machine learning. By analyzing the sentiment of news articles related to a particular stock (in this case, Apple), the goal is to build a model that can predict whether the stock price will go up or down, and provide a recommendation to **buy**, **sell**, or **hold** the stock."
   ]
  },
  {
   "cell_type": "markdown",
   "id": "19db5ea9",
   "metadata": {},
   "source": [
    "### **Features**\n",
    "1. **News sentiment analysis**: Sentiment analysis is performed on news headlines to determine whether the news is positive, negative, or neutral.\n",
    "2. **Stock price data**: Historical stock price data is fetched to analyze price trends.\n",
    "3. **Machine learning model**: A logistic regression model is trained using sentiment scores and stock price movement data to make predictions.\n",
    "4. **Trading recommendation**: Based on the model’s prediction, a trading decision is made (whether to buy, sell, or hold the stock).\n"
   ]
  },
  {
   "cell_type": "markdown",
   "id": "e84b2fd6",
   "metadata": {},
   "source": [
    "### **Requirements**\n",
    "To run this project, you'll need to install the following Python libraries:\n",
    "\n",
    "- **yfinance**: For fetching stock price data from Yahoo Finance.\n",
    "- **newsapi-python**: For accessing the News API to get real-time news articles.\n",
    "- **vaderSentiment**: For performing sentiment analysis on the fetched news headlines.\n",
    "- **pandas**: For data manipulation and analysis.\n",
    "- **scikit-learn**: For building the machine learning model and evaluating its performance.\n",
    "\n",
    "You can install these libraries by running the following command:"
   ]
  },
  {
   "cell_type": "code",
   "execution_count": null,
   "id": "ad125604",
   "metadata": {},
   "outputs": [],
   "source": [
    "pip install yfinance newsapi-python vaderSentiment pandas scikit-learn"
   ]
  },
  {
   "cell_type": "markdown",
   "id": "62aa5c53",
   "metadata": {},
   "source": [
    "### Step 1: Fetch News and Analyze Sentiment\n",
    "We’ll use NewsAPI to get the latest stock-related news.This will automatically get the latest financial news about the stock."
   ]
  },
  {
   "cell_type": "code",
   "execution_count": 2,
   "id": "2b836d79",
   "metadata": {},
   "outputs": [
    {
     "name": "stdout",
     "output_type": "stream",
     "text": [
      "1. CNBC Daily Open: For nervous investors, Fed’s dot plot comes as a relief\n",
      "2. Is the Trump trade over?\n",
      "3. Buffett Indicator Sounds the Alarm on Stocks\n",
      "4. It’s Time to Take Action—Even Though It Feels Dangerous\n",
      "5. Trump Wants Credit for That Too\n",
      "6. Ignore the ‘AI Gloom’ and Keep Buying Apple Stock\n",
      "7. YouTube, FOIA.gov, Careless People, More: Wednesday Afternoon ResearchBuzz, March 19, 2025\n",
      "8. Lectric March Madness e-bike bundles and price cuts from $999, Segway Spring Sale takes 50% off e-scooters, Aventon clearance, more\n",
      "9. Exclusive—Peter Narvarro: China Is the World’s Biggest Cheater, But the EU and Vietnam Run Close Seconds\n"
     ]
    }
   ],
   "source": [
    "from newsapi import NewsApiClient\n",
    "\n",
    "newsapi = NewsApiClient(api_key='Your API Key')\n",
    "\n",
    "# Get latest news about Apple (AAPL)\n",
    "news_articles = newsapi.get_everything(q='Apple stock', language='en', sort_by='publishedAt', page_size=10)\n",
    "\n",
    "# Extract headlines\n",
    "news_headlines = [article['title'] for article in news_articles['articles']]\n",
    "\n",
    "for i, headline in enumerate(news_headlines):\n",
    "    print(f\"{i+1}. {headline}\")\n"
   ]
  },
  {
   "cell_type": "markdown",
   "id": "e1d211df",
   "metadata": {},
   "source": [
    "### Step 2: Analyze Sentiment\n",
    "We’ll use VADER Sentiment Analysis to determine if the news is positive, negative, or neutral.\n",
    "\n",
    "💡 Sentiment Score Meaning:\n",
    "\n",
    "Positive Sentiment (Score > 0.05) → Good news → Stock price may increase 📈 <br>\n",
    "Negative Sentiment (Score < -0.05) → Bad news → Stock price may drop 📉<br>\n",
    "Neutral Sentiment (Between -0.05 and 0.05) → No significant effect"
   ]
  },
  {
   "cell_type": "code",
   "execution_count": 3,
   "id": "792d3614",
   "metadata": {},
   "outputs": [
    {
     "name": "stdout",
     "output_type": "stream",
     "text": [
      "News 1: Sentiment Score = 0.25\n",
      "News 2: Sentiment Score = 0.0\n",
      "News 3: Sentiment Score = -0.34\n",
      "News 4: Sentiment Score = -0.4767\n",
      "News 5: Sentiment Score = 0.3818\n",
      "News 6: Sentiment Score = -0.3612\n",
      "News 7: Sentiment Score = -0.3612\n",
      "News 8: Sentiment Score = -0.6249\n",
      "News 9: Sentiment Score = -0.3071\n"
     ]
    }
   ],
   "source": [
    "from vaderSentiment.vaderSentiment import SentimentIntensityAnalyzer\n",
    "\n",
    "# Initialize sentiment analyzer\n",
    "analyzer = SentimentIntensityAnalyzer()\n",
    "\n",
    "# Analyze sentiment of each headline\n",
    "sentiment_scores = [analyzer.polarity_scores(headline)['compound'] for headline in news_headlines]\n",
    "\n",
    "for i, score in enumerate(sentiment_scores):\n",
    "    print(f\"News {i+1}: Sentiment Score = {score}\")\n"
   ]
  },
  {
   "cell_type": "markdown",
   "id": "53d282d4",
   "metadata": {},
   "source": [
    "### Step 3: Fetch Apple Stock Data\n",
    "Now, let’s get Apple's stock price for last 7 days using yfinance."
   ]
  },
  {
   "cell_type": "code",
   "execution_count": 4,
   "id": "709218b1",
   "metadata": {},
   "outputs": [
    {
     "name": "stdout",
     "output_type": "stream",
     "text": [
      "YF.download() has changed argument auto_adjust default to True\n"
     ]
    },
    {
     "name": "stderr",
     "output_type": "stream",
     "text": [
      "[*********************100%***********************]  1 of 1 completed"
     ]
    },
    {
     "name": "stdout",
     "output_type": "stream",
     "text": [
      "Price            Close        High         Low        Open    Volume\n",
      "Ticker            AAPL        AAPL        AAPL        AAPL      AAPL\n",
      "Date                                                                \n",
      "2025-03-14  213.490005  213.949997  209.580002  211.250000  60107600\n",
      "2025-03-17  214.000000  215.220001  209.970001  213.309998  48073400\n",
      "2025-03-18  212.690002  215.149994  211.490005  214.160004  42432400\n",
      "2025-03-19  215.240005  218.759995  213.750000  214.220001  54385400\n",
      "2025-03-20  214.100006  217.490005  212.220001  213.990005  48799300\n"
     ]
    },
    {
     "name": "stderr",
     "output_type": "stream",
     "text": [
      "\n"
     ]
    }
   ],
   "source": [
    "import yfinance as yf\n",
    "\n",
    "# Download Apple (AAPL) stock data\n",
    "stock_data = yf.download('AAPL', period='7d', interval='1d')\n",
    "\n",
    "print(stock_data.tail())"
   ]
  },
  {
   "cell_type": "markdown",
   "id": "eee66d37",
   "metadata": {},
   "source": [
    "### Step 4: Train the Machine Learning Model\n",
    "Now, we’ll combine the sentiment scores with the stock price movement to train a machine learning model. This model predicts if the stock price will go up or down based on sentiment."
   ]
  },
  {
   "cell_type": "code",
   "execution_count": 5,
   "id": "08b5f8d1",
   "metadata": {},
   "outputs": [
    {
     "name": "stdout",
     "output_type": "stream",
     "text": [
      "🔍 Model Accuracy: 0.67\n"
     ]
    }
   ],
   "source": [
    "from sklearn.model_selection import train_test_split\n",
    "from sklearn.linear_model import LogisticRegression\n",
    "from sklearn.metrics import accuracy_score\n",
    "import pandas as pd\n",
    "import yfinance as yf\n",
    "\n",
    "stock_symbol = \"AAPL\"\n",
    "stock = yf.Ticker(stock_symbol)\n",
    "stock_data = stock.history(period=\"60d\")  # Get last 60 days of data\n",
    "\n",
    "stock_data['Sentiment'] = sentiment_scores[0]  # Using the latest sentiment score for simplicity\n",
    "\n",
    "stock_data['Price_Change'] = stock_data['Close'].pct_change().shift(-1)  # # Calculate Price Change(%)\n",
    "\n",
    "# Define Target Variable (1 = Price goes up, 0 = Price goes down)\n",
    "stock_data['Price_Up'] = (stock_data['Price_Change'] > 0).astype(int)\n",
    "\n",
    "stock_data = stock_data.dropna()\n",
    "\n",
    "X = stock_data[['Sentiment']]\n",
    "y = stock_data['Price_Up']\n",
    "\n",
    "X_train, X_test, y_train, y_test = train_test_split(X, y, test_size=0.2, random_state=42)\n",
    "\n",
    "# Training Logistic Regression Model\n",
    "model = LogisticRegression()\n",
    "model.fit(X_train, y_train)\n",
    "\n",
    "# Making Predictions on Test Data\n",
    "y_pred = model.predict(X_test)\n",
    "\n",
    "# Evaluating Model Accuracy\n",
    "accuracy = accuracy_score(y_test, y_pred)\n",
    "print(f\"🔍 Model Accuracy: {accuracy:.2f}\")"
   ]
  },
  {
   "cell_type": "markdown",
   "id": "cb3af253",
   "metadata": {},
   "source": [
    "### Step 5: Make Trading Decisions Based on Sentiment\n",
    "Now, let’s use our trained model to predict the next move and decide whether to buy or sell."
   ]
  },
  {
   "cell_type": "code",
   "execution_count": 7,
   "id": "31d5389e",
   "metadata": {},
   "outputs": [
    {
     "name": "stdout",
     "output_type": "stream",
     "text": [
      "📉 SELL Apple Stock!\n"
     ]
    }
   ],
   "source": [
    "# Predict based on the latest sentiment score\n",
    "latest_sentiment = sentiment_scores[0]  # Latest sentiment score\n",
    "prediction = model.predict([[latest_sentiment]])\n",
    "\n",
    "# Trading Decision\n",
    "if prediction == 1:\n",
    "    print(\"📈 BUY Apple Stock!\")\n",
    "elif prediction == 0:\n",
    "    print(\"📉 SELL Apple Stock!\")\n",
    "else:\n",
    "    print(\"⚖️ HOLD Apple Stock!\")"
   ]
  }
 ],
 "metadata": {
  "kernelspec": {
   "display_name": "Python 3 (ipykernel)",
   "language": "python",
   "name": "python3"
  },
  "language_info": {
   "codemirror_mode": {
    "name": "ipython",
    "version": 3
   },
   "file_extension": ".py",
   "mimetype": "text/x-python",
   "name": "python",
   "nbconvert_exporter": "python",
   "pygments_lexer": "ipython3",
   "version": "3.11.5"
  }
 },
 "nbformat": 4,
 "nbformat_minor": 5
}
